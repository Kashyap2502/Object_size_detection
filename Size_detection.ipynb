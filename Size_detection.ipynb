{
 "cells": [
  {
   "cell_type": "code",
   "execution_count": 1,
   "id": "4c78257a",
   "metadata": {},
   "outputs": [],
   "source": [
    "import cv2 as cv\n",
    "import os\n",
    "import numpy as np"
   ]
  },
  {
   "cell_type": "code",
   "execution_count": 2,
   "id": "9f453aaf",
   "metadata": {},
   "outputs": [
    {
     "name": "stdout",
     "output_type": "stream",
     "text": [
      "please enter the name of image with extensiontest.jpeg\n"
     ]
    }
   ],
   "source": [
    "name=input(\"please enter the name of image with extension\")\n",
    "IMAGE_PATH = \"Input_images\"\n",
    "IMAGE_PATH =os.path.join(IMAGE_PATH,name)"
   ]
  },
  {
   "cell_type": "code",
   "execution_count": 3,
   "id": "0ba18e31",
   "metadata": {},
   "outputs": [
    {
     "name": "stdout",
     "output_type": "stream",
     "text": [
      "Place the reference object on the left \n",
      "Enter the width of the reference object   5.4\n",
      "Enter the width of the reference object   8.6\n"
     ]
    }
   ],
   "source": [
    "width=float(input(\"Place the reference object on the left \\nEnter the width of the reference object   \"))\n",
    "height=float(input(\"Enter the width of the reference object   \"))"
   ]
  },
  {
   "cell_type": "code",
   "execution_count": 4,
   "id": "8e9591e0",
   "metadata": {},
   "outputs": [],
   "source": [
    "image=cv.imread(IMAGE_PATH)\n",
    "i=np.zeros([500,500,3])\n",
    "img=cv.cvtColor(image,cv.COLOR_BGR2GRAY)\n",
    "kernel = np.ones((5,5), np.uint8) \n",
    "# img = cv.dilate(img, kernel, iterations=5)\n",
    "# img = cv.erode(img, kernel, iterations=5) \n",
    "# img= cv.GaussianBlur(img, (5, 5), 0)\n",
    "mask = cv.adaptiveThreshold(img, 255, cv.ADAPTIVE_THRESH_MEAN_C, cv.THRESH_BINARY_INV, 19, 5)\n",
    "con,her=cv.findContours(mask, cv.RETR_EXTERNAL, cv.CHAIN_APPROX_SIMPLE)\n",
    "# cv.drawContours(i, con, -1, (0, 255, 0), 3)\n",
    "# cv.imshow(\"one\",i)\n",
    "objects=[]\n",
    "for c in con:\n",
    "     area = cv.contourArea(c)\n",
    "     if area > 2000:\n",
    "         objects.append(c)\n",
    "\n",
    "i=np.zeros(image.shape)\n",
    "min=image.shape[0]\n",
    "ratiox=0\n",
    "ratioy=0\n",
    "for c in objects:\n",
    "    x=cv.minAreaRect(c)\n",
    "    if x[0][0]<min:\n",
    "        min=x[0][0]\n",
    "for c in objects:\n",
    "    x=cv.minAreaRect(c)\n",
    "    if x[0][0]==min:\n",
    "         b=cv.boxPoints(x)\n",
    "         b=np.int0(b)\n",
    "         cv.putText(image,f\"Reference Object\",(int(x[0][0]-x[1][1]/2),int(x[0][1]-x[1][0]/2-18)),cv.FONT_HERSHEY_PLAIN,2,(0,0,255),2)\n",
    "#          cv.drawContours(i, [b], -1, (0, 255, 0), 3)\n",
    "         ratiox=width/x[1][1]\n",
    "         ratioy=height/x[1][0]"
   ]
  },
  {
   "cell_type": "code",
   "execution_count": 6,
   "id": "cae9b24c",
   "metadata": {},
   "outputs": [
    {
     "data": {
      "text/plain": [
       "48"
      ]
     },
     "execution_count": 6,
     "metadata": {},
     "output_type": "execute_result"
    }
   ],
   "source": [
    "for c in objects:\n",
    "    x=cv.minAreaRect(c)\n",
    "    b=cv.boxPoints(x)\n",
    "    b=np.int0(b)\n",
    "#     print(b)\n",
    "    cv.polylines(image,[b],True,(0,255,0),3)\n",
    "    \n",
    "    cv.putText(image,f\"width : {round(x[1][1]*ratiox,1)} CM\",(int(x[0][0]),int(x[0][1])),cv.FONT_HERSHEY_PLAIN,1,(0,255,0),2)\n",
    "    cv.putText(image,f\"Height : {round(x[1][0]*ratioy,1)} CM\",(int(x[0][0]),int(x[0][1]-18)),cv.FONT_HERSHEY_PLAIN,1,(0,255,0),2)\n",
    "#     print(x)\n",
    "cv.imshow(\"one\",image)\n",
    "OUTPUT_PATH=os.path.join(\"Results\",\"marked\"+name)\n",
    "cv.imwrite(OUTPUT_PATH,image)\n",
    "cv.waitKey(0)"
   ]
  }
 ],
 "metadata": {
  "kernelspec": {
   "display_name": "Python 3 (ipykernel)",
   "language": "python",
   "name": "python3"
  },
  "language_info": {
   "codemirror_mode": {
    "name": "ipython",
    "version": 3
   },
   "file_extension": ".py",
   "mimetype": "text/x-python",
   "name": "python",
   "nbconvert_exporter": "python",
   "pygments_lexer": "ipython3",
   "version": "3.9.12"
  }
 },
 "nbformat": 4,
 "nbformat_minor": 5
}
